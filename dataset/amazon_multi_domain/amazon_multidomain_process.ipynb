{
 "cells": [
  {
   "cell_type": "code",
   "execution_count": 47,
   "metadata": {},
   "outputs": [],
   "source": [
    "# Download [unprocessed.tar.gz] from https://www.cs.jhu.edu/~mdredze/datasets/sentiment/\n",
    "\n",
    "import os\n",
    "import pandas as pd\n",
    "\n",
    "domain_list = ['books', 'dvd', 'electronics', 'kitchen_&_housewares']"
   ]
  },
  {
   "cell_type": "code",
   "execution_count": 48,
   "metadata": {},
   "outputs": [],
   "source": [
    "for domain in domain_list:\n",
    "    with open(os.path.join('./', domain, 'negative.review'), 'rb') as f:\n",
    "        negative_review = f.readlines()\n",
    "    with open(os.path.join('./', domain, 'positive.review'), 'rb') as f:\n",
    "        positive_review = f.readlines()\n",
    "\n",
    "    start, end = 0, 0\n",
    "    neg_text_list = []\n",
    "    for i in range(len(negative_review)):\n",
    "        if negative_review[i].startswith(b'<review_text>'):\n",
    "            start = i\n",
    "        if negative_review[i].startswith(b'</review_text>'):\n",
    "            end = i\n",
    "            text = [x.decode('latin-1').strip() for x in negative_review[start+1:end]]\n",
    "            neg_text_list.append(' '.join(text))\n",
    "\n",
    "    start, end = 0, 0\n",
    "    pos_text_list = []\n",
    "    for i in range(len(positive_review)):\n",
    "        if positive_review[i].startswith(b'<review_text>'):\n",
    "            start = i\n",
    "        if positive_review[i].startswith(b'</review_text>'):\n",
    "            end = i\n",
    "            text = [x.decode('latin-1').strip() for x in positive_review[start+1:end]]\n",
    "            pos_text_list.append(' '.join(text))\n",
    "\n",
    "    neg_df = pd.DataFrame({'text': neg_text_list, 'label': 0})\n",
    "    pos_df = pd.DataFrame({'text': pos_text_list, 'label': 1})\n",
    "\n",
    "    df = pd.concat([neg_df, pos_df], axis=0)\n",
    "\n",
    "    if domain == 'kitchen_&_housewares':\n",
    "        domain = 'kitchen'\n",
    "\n",
    "    df.to_csv(os.path.join('./', f'amazon_multidomain_{domain}.csv'), index=False)"
   ]
  }
 ],
 "metadata": {
  "kernelspec": {
   "display_name": "NLP-torch",
   "language": "python",
   "name": "python3"
  },
  "language_info": {
   "codemirror_mode": {
    "name": "ipython",
    "version": 3
   },
   "file_extension": ".py",
   "mimetype": "text/x-python",
   "name": "python",
   "nbconvert_exporter": "python",
   "pygments_lexer": "ipython3",
   "version": "3.8.15"
  }
 },
 "nbformat": 4,
 "nbformat_minor": 2
}
